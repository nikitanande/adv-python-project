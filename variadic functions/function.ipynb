{
 "cells": [
  {
   "cell_type": "code",
   "execution_count": 6,
   "metadata": {},
   "outputs": [
    {
     "ename": "IndentationError",
     "evalue": "expected an indented block after function definition on line 1 (181419750.py, line 2)",
     "output_type": "error",
     "traceback": [
      "\u001b[1;36m  Cell \u001b[1;32mIn[6], line 2\u001b[1;36m\u001b[0m\n\u001b[1;33m    c=a+b\u001b[0m\n\u001b[1;37m    ^\u001b[0m\n\u001b[1;31mIndentationError\u001b[0m\u001b[1;31m:\u001b[0m expected an indented block after function definition on line 1\n"
     ]
    }
   ],
   "source": [
    "def add(a:float|int,b:float|int)  ->int|float:\n",
    "c=a+b\n",
    "return c"
   ]
  },
  {
   "cell_type": "code",
   "execution_count": null,
   "metadata": {},
   "outputs": [],
   "source": [
    "def add(a:float|int,b:float|int)  ->int|float:\n",
    "    c=a+b\n",
    "    return c"
   ]
  },
  {
   "cell_type": "code",
   "execution_count": null,
   "metadata": {},
   "outputs": [
    {
     "data": {
      "text/plain": [
       "40"
      ]
     },
     "execution_count": 7,
     "metadata": {},
     "output_type": "execute_result"
    }
   ],
   "source": [
    "# agrUMENT INPUT\n",
    "add(3,4)\n",
    "add(4.5,3)\n",
    "\n",
    "# # Keyword arguments in python\n",
    "add(a=23,b=17)\n"
   ]
  },
  {
   "cell_type": "markdown",
   "metadata": {},
   "source": [
    "esc, y - Code cell\n",
    "esc, m - markdown\n",
    "shift + enter - Run the cell"
   ]
  },
  {
   "cell_type": "code",
   "execution_count": 8,
   "metadata": {},
   "outputs": [
    {
     "data": {
      "text/plain": [
       "23.8"
      ]
     },
     "execution_count": 8,
     "metadata": {},
     "output_type": "execute_result"
    }
   ],
   "source": [
    "add(a=11.5, b=12.3)"
   ]
  },
  {
   "cell_type": "code",
   "execution_count": 9,
   "metadata": {},
   "outputs": [],
   "source": [
    "#Try to add 3 numbers with above code"
   ]
  },
  {
   "cell_type": "code",
   "execution_count": 10,
   "metadata": {},
   "outputs": [
    {
     "ename": "TypeError",
     "evalue": "add() takes 2 positional arguments but 3 were given",
     "output_type": "error",
     "traceback": [
      "\u001b[1;31m---------------------------------------------------------------------------\u001b[0m",
      "\u001b[1;31mTypeError\u001b[0m                                 Traceback (most recent call last)",
      "Cell \u001b[1;32mIn[10], line 1\u001b[0m\n\u001b[1;32m----> 1\u001b[0m \u001b[43madd\u001b[49m\u001b[43m(\u001b[49m\u001b[38;5;241;43m1\u001b[39;49m\u001b[43m,\u001b[49m\u001b[43m \u001b[49m\u001b[38;5;241;43m2\u001b[39;49m\u001b[43m,\u001b[49m\u001b[43m \u001b[49m\u001b[38;5;241;43m3\u001b[39;49m\u001b[43m)\u001b[49m\n",
      "\u001b[1;31mTypeError\u001b[0m: add() takes 2 positional arguments but 3 were given"
     ]
    }
   ],
   "source": [
    "add(1, 2, 3)"
   ]
  },
  {
   "cell_type": "markdown",
   "metadata": {},
   "source": [
    "Create args inside function\n",
    "*args - this will act like a tuple in pythonm"
   ]
  },
  {
   "cell_type": "code",
   "execution_count": 12,
   "metadata": {},
   "outputs": [],
   "source": [
    "def function1(*args):\n",
    "    print(args)\n",
    "    print(type(args))\n",
    "    for i in args:\n",
    "        print (i)"
   ]
  },
  {
   "cell_type": "code",
   "execution_count": 13,
   "metadata": {},
   "outputs": [
    {
     "name": "stdout",
     "output_type": "stream",
     "text": [
      "(3, 4)\n",
      "<class 'tuple'>\n",
      "3\n",
      "4\n"
     ]
    }
   ],
   "source": [
    "function1(3,4)"
   ]
  },
  {
   "cell_type": "code",
   "execution_count": 14,
   "metadata": {},
   "outputs": [
    {
     "name": "stdout",
     "output_type": "stream",
     "text": [
      "('Nikita', 30, 'data analyst', 'o-ve')\n",
      "<class 'tuple'>\n",
      "Nikita\n",
      "30\n",
      "data analyst\n",
      "o-ve\n"
     ]
    }
   ],
   "source": [
    "function1(\"Nikita\", 30,\"data analyst\",\"o-ve\")"
   ]
  },
  {
   "cell_type": "code",
   "execution_count": 15,
   "metadata": {},
   "outputs": [
    {
     "data": {
      "text/plain": [
       "list"
      ]
     },
     "execution_count": 15,
     "metadata": {},
     "output_type": "execute_result"
    }
   ],
   "source": [
    "a = [\"Example\", True, False, 12.5, 11.2, 13]\n",
    "type(a)\n"
   ]
  },
  {
   "cell_type": "markdown",
   "metadata": {},
   "source": [
    "Unpack a list using *list_name"
   ]
  },
  {
   "cell_type": "code",
   "execution_count": 16,
   "metadata": {},
   "outputs": [
    {
     "name": "stdout",
     "output_type": "stream",
     "text": [
      "('Example', True, False, 12.5, 11.2, 13)\n",
      "<class 'tuple'>\n",
      "Example\n",
      "True\n",
      "False\n",
      "12.5\n",
      "11.2\n",
      "13\n"
     ]
    }
   ],
   "source": [
    "function1(*a)"
   ]
  },
  {
   "cell_type": "markdown",
   "metadata": {},
   "source": [
    "Given the cart products of a customer perform total billing of products"
   ]
  },
  {
   "cell_type": "code",
   "execution_count": 3,
   "metadata": {},
   "outputs": [],
   "source": [
    "c1 = [\n",
    "    (\"Laptop\", 65000, 1),\n",
    "    (\"Mouse\", 1500, 2),\n",
    "    (\"Keyboard\", 2000, 1)\n",
    "]"
   ]
  },
  {
   "cell_type": "code",
   "execution_count": 5,
   "metadata": {},
   "outputs": [],
   "source": [
    "def billing(*args):\n",
    "    total_bill=0\n",
    "    for name , price,qty in args:\n",
    "        subtotal =price*qty\n",
    "        total_bill=total_bill+subtotal\n",
    "        print(f\"name:{name},price:{price} INR,qty:{ qty}\")\n",
    "        print(f\"subtotal:{subtotal}INR\")\n",
    "        print(\"\\n=====================================================\")\n",
    "        print(f\"Total Bill : {total_bill:.2f} INR\")\n",
    "    return total_bill"
   ]
  },
  {
   "cell_type": "code",
   "execution_count": 6,
   "metadata": {},
   "outputs": [
    {
     "data": {
      "text/plain": [
       "[('Laptop', 65000, 1), ('Mouse', 1500, 2), ('Keyboard', 2000, 1)]"
      ]
     },
     "execution_count": 6,
     "metadata": {},
     "output_type": "execute_result"
    }
   ],
   "source": [
    "c1"
   ]
  },
  {
   "cell_type": "code",
   "execution_count": 7,
   "metadata": {},
   "outputs": [
    {
     "name": "stdout",
     "output_type": "stream",
     "text": [
      "name:Laptop,price:65000 INR,qty:1\n",
      "subtotal:65000INR\n",
      "\n",
      "=====================================================\n",
      "Total Bill : 65000.00 INR\n",
      "name:Mouse,price:1500 INR,qty:2\n",
      "subtotal:3000INR\n",
      "\n",
      "=====================================================\n",
      "Total Bill : 68000.00 INR\n",
      "name:Keyboard,price:2000 INR,qty:1\n",
      "subtotal:2000INR\n",
      "\n",
      "=====================================================\n",
      "Total Bill : 70000.00 INR\n"
     ]
    }
   ],
   "source": [
    "t1 = billing(*c1)"
   ]
  },
  {
   "cell_type": "code",
   "execution_count": 8,
   "metadata": {},
   "outputs": [
    {
     "data": {
      "text/plain": [
       "70000"
      ]
     },
     "execution_count": 8,
     "metadata": {},
     "output_type": "execute_result"
    }
   ],
   "source": [
    "t1"
   ]
  },
  {
   "cell_type": "code",
   "execution_count": 9,
   "metadata": {},
   "outputs": [
    {
     "name": "stdout",
     "output_type": "stream",
     "text": [
      "name:Mobile,price:30000 INR,qty:2\n",
      "subtotal:60000INR\n",
      "\n",
      "=====================================================\n",
      "Total Bill : 60000.00 INR\n",
      "name:Screen Guard,price:200 INR,qty:4\n",
      "subtotal:800INR\n",
      "\n",
      "=====================================================\n",
      "Total Bill : 60800.00 INR\n",
      "name:Headphones,price:2000 INR,qty:1\n",
      "subtotal:2000INR\n",
      "\n",
      "=====================================================\n",
      "Total Bill : 62800.00 INR\n",
      "name:Phone cover,price:400 INR,qty:2\n",
      "subtotal:800INR\n",
      "\n",
      "=====================================================\n",
      "Total Bill : 63600.00 INR\n"
     ]
    }
   ],
   "source": [
    "t2 = billing(\n",
    "    (\"Mobile\", 30000, 2),\n",
    "    (\"Screen Guard\", 200, 4),\n",
    "    (\"Headphones\", 2000, 1),\n",
    "    (\"Phone cover\", 400, 2)\n",
    ")"
   ]
  },
  {
   "cell_type": "code",
   "execution_count": null,
   "metadata": {},
   "outputs": [],
   "source": []
  }
 ],
 "metadata": {
  "kernelspec": {
   "display_name": "venv",
   "language": "python",
   "name": "python3"
  },
  "language_info": {
   "codemirror_mode": {
    "name": "ipython",
    "version": 3
   },
   "file_extension": ".py",
   "mimetype": "text/x-python",
   "name": "python",
   "nbconvert_exporter": "python",
   "pygments_lexer": "ipython3",
   "version": "3.13.2"
  }
 },
 "nbformat": 4,
 "nbformat_minor": 2
}
